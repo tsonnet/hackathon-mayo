{
 "cells": [
  {
   "cell_type": "markdown",
   "metadata": {},
   "source": [
    "# Hackathon 1: simulations, descriptive stats & estimation\n",
    "\n",
    "This project illustrates the course LEPL1109 with an industrial applications of simulations. You will analyse the performance of an assembly chain, analytically and with simulations. This is an introduction to supply chain management which is a field actively studied by engineers (see e.g. LINMA2470 Stochastic modelling). \n",
    "\n",
    "## Report content\n",
    "\n",
    "•\tGrades are granted to the members whose names are in the Jupyter notebook. If your name doesn’t appear on the top of the notebook, you’ll get a 0, even though you are in a group on Moodle.\n",
    "\n",
    "•\tThe jupyter notebook must be compiled with printed results and next submitted via moodle. The absence of compiled results (or non-printed values) leads to a lower grade.\n",
    "\n",
    "## Report submission\n",
    "\n",
    "•\tDeadline, see moodle website. Submission after the deadline will not be accepted.\n",
    "\n",
    "•\tTo submit your report, go to the section “APP” on Moodle and the subsection “Soumission du rapport”. You can upload your work there. Once you are sure that it is your final version, click the button “Envoyer le devoir”. It is important that you don’t forget to click on this button ! \n",
    "\n",
    "•\tReports that have not been uploaded through Moodle will not be corrected.\n",
    "\n",
    "\n",
    "## Names and Noma of participants:\n",
    "\n",
    "Part. 1: Martin Servais 01111900\n",
    "\n",
    "Part. 2: Simon Capiau 17041900\n",
    "\n",
    "Part. 3: Alexis Victor 61161900\n",
    "\n",
    "Part. 4: Baptiste Istace 13421900\n",
    "\n",
    "Part. 5: Louis Caulier 40221900\n",
    "\n",
    "Part. 6: Otis Van Kerm 35561900\n"
   ]
  },
  {
   "attachments": {
    "Capture.PNG": {
     "image/png": "[encoded data removed]"
    }
   },
   "cell_type": "markdown",
   "metadata": {},
   "source": [
    "In a manufacture of mechanical devices for the automotive industry, the production of a gearbox is done by a line of 3 successive working stations. The production of a new gearbox starts only when the previous one is fully assembled. In what follows, the assembly time of one gearbox is denoted by $T$. Also, $T_k$ is the assembly time at machine $k$. Finally $\\mu_k = \\mathbb{E}(T_k)$ and $\\sigma^2_k = \\mathbb{V}(T)$. Details about the production line are provided in the graph below.\n",
    "\n",
    "![Capture.PNG](attachment:Capture.PNG)\n",
    "\n",
    "where $p=0.75$ indicates for example that the output of machine 1 ends up in machine 2 with probability $0.75$. \n",
    "\n",
    "------------------------------------------------------------------------------------------------------\n",
    "\n",
    "1.\tFor each machine $k$, choose a (non-Gaussian) statistical distribution for the assembly time $T_k$ and provide value(s) for its parameter(s).\n",
    "\n",
    "------------------------------------------------------------------------------------------------------"
   ]
  },
  {
   "cell_type": "markdown",
   "metadata": {},
   "source": [
    "We chose a gamma distribution, the two parameters are:\n",
    "\n",
    "$\\beta_k = \\frac{\\sigma_k^2}{\\mu_k}$\n",
    "\n",
    "$\\alpha_k = \\frac{\\mu_k^2}{\\sigma_k^2}$"
   ]
  },
  {
   "cell_type": "markdown",
   "metadata": {},
   "source": [
    "------------------------------------------------------------------------------------------------------------------------\n",
    "\n",
    "b) Calculate the expected time for assembling one gearbox, $\\mathbb{E}(T)$.\n",
    "\n",
    "------------------------------------------------------------------------------------------------------------------------"
   ]
  },
  {
   "cell_type": "markdown",
   "metadata": {},
   "source": [
    "$\\mathbb{E}(T) = \\mathbb{E}(X_1 + 0.75 X_2 + 0.25 X_3 + X_4) = 7 + 0.75*12 + 0.25*16+8 = 28s$\n"
   ]
  },
  {
   "cell_type": "markdown",
   "metadata": {},
   "source": [
    "------------------------------------------------------------------------------------------------------\n",
    "\n",
    "2. Simulate 5000 durations  $T$  for assembling one single gearbox and report the mean (check that its is well close to the expectation of question 1), standard deviation, 5% and 95% percentile. Plot an histogram. Save the simulated durations in a file \"sample.csv\".\n",
    "\n",
    "------------------------------------------------------------------------------------------------------"
   ]
  },
  {
   "cell_type": "code",
   "execution_count": 2,
   "metadata": {},
   "outputs": [
    {
     "data": {
      "text/plain": [
       "(array([ 10.,  30.,  66., 103., 116., 126., 177., 173., 186., 204., 210.,\n",
       "        211., 217., 227., 203., 222., 185., 181., 193., 196., 156., 147.,\n",
       "        128., 120., 120.,  97.,  88.,  91.,  72.,  78.,  69.,  69.,  58.,\n",
       "         52.,  42.,  46.,  35.,  39.,  26.,  31.,  22.,  14.,  17.,  16.,\n",
       "         24.,  18.,   9.,   3.,   8.,   5.,   4.,   5.,   5.,   5.,   3.,\n",
       "          3.,   0.,   5.,   4.,   3.,   3.,   3.,   1.,   5.,   2.,   1.,\n",
       "          1.,   1.,   1.,   0.,   0.,   2.,   1.,   1.,   1.,   0.,   0.,\n",
       "          1.,   0.,   1.,   0.,   0.,   0.,   0.,   0.,   0.,   0.,   0.,\n",
       "          0.,   0.,   0.,   0.,   0.,   1.,   0.,   0.,   0.,   0.,   0.,\n",
       "          1.]),\n",
       " array([  5.03139992,   6.28608035,   7.54076079,   8.79544123,\n",
       "         10.05012167,  11.30480211,  12.55948255,  13.81416298,\n",
       "         15.06884342,  16.32352386,  17.5782043 ,  18.83288474,\n",
       "         20.08756518,  21.34224562,  22.59692605,  23.85160649,\n",
       "         25.10628693,  26.36096737,  27.61564781,  28.87032825,\n",
       "         30.12500868,  31.37968912,  32.63436956,  33.88905   ,\n",
       "         35.14373044,  36.39841088,  37.65309132,  38.90777175,\n",
       "         40.16245219,  41.41713263,  42.67181307,  43.92649351,\n",
       "         45.18117395,  46.43585439,  47.69053482,  48.94521526,\n",
       "         50.1998957 ,  51.45457614,  52.70925658,  53.96393702,\n",
       "         55.21861745,  56.47329789,  57.72797833,  58.98265877,\n",
       "         60.23733921,  61.49201965,  62.74670009,  64.00138052,\n",
       "         65.25606096,  66.5107414 ,  67.76542184,  69.02010228,\n",
       "         70.27478272,  71.52946315,  72.78414359,  74.03882403,\n",
       "         75.29350447,  76.54818491,  77.80286535,  79.05754579,\n",
       "         80.31222622,  81.56690666,  82.8215871 ,  84.07626754,\n",
       "         85.33094798,  86.58562842,  87.84030885,  89.09498929,\n",
       "         90.34966973,  91.60435017,  92.85903061,  94.11371105,\n",
       "         95.36839149,  96.62307192,  97.87775236,  99.1324328 ,\n",
       "        100.38711324, 101.64179368, 102.89647412, 104.15115456,\n",
       "        105.40583499, 106.66051543, 107.91519587, 109.16987631,\n",
       "        110.42455675, 111.67923719, 112.93391762, 114.18859806,\n",
       "        115.4432785 , 116.69795894, 117.95263938, 119.20731982,\n",
       "        120.46200026, 121.71668069, 122.97136113, 124.22604157,\n",
       "        125.48072201, 126.73540245, 127.99008289, 129.24476332,\n",
       "        130.49944376]),\n",
       " <BarContainer object of 100 artists>)"
      ]
     },
     "execution_count": 2,
     "metadata": {},
     "output_type": "execute_result"
    },
    {
     "data": {
      "image/png": "[encoded data removed]",
      "text/plain": [
       "<Figure size 432x288 with 1 Axes>"
      ]
     },
     "metadata": {
      "needs_background": "light"
     },
     "output_type": "display_data"
    }
   ],
   "source": [
    "import numpy as np\n",
    "import matplotlib.pyplot as plt\n",
    "import pandas as pd\n",
    "\n",
    "mu = np.array([7,12, 16, 8])\n",
    "sigma = np.array([2,12, 8, 8])\n",
    "\n",
    "alpha = mu**2/sigma**2\n",
    "beta = sigma**2/mu\n",
    "\n",
    "results = np.zeros(5000)\n",
    "\n",
    "for i in range(5000):\n",
    "    time = 0\n",
    "    time += np.random.gamma(alpha[0], beta[0], 1)\n",
    "    if np.random.random() < 0.25:\n",
    "        time += np.random.gamma(alpha[2], beta[2], 1)\n",
    "    else:\n",
    "        time += np.random.gamma(alpha[1], beta[1], 1)\n",
    "    time += np.random.gamma(alpha[3], beta[3], 1)\n",
    "    results[i] = time\n",
    "\n",
    "mean = results.sum()/results.size\n",
    "standard_deviation = results.std()\n",
    "five_percentile = np.percentile(results, 5)\n",
    "ninety_five_percentile = np.percentile(results, 95)\n",
    "\n",
    "pd.DataFrame(results).to_csv(\"sample.csv\", index=False)\n",
    "\n",
    "plt.hist(results, bins = 100)\n"
   ]
  },
  {
   "cell_type": "markdown",
   "metadata": {},
   "source": [
    "\n",
    "------------------------------------------------------------------------------------------------------\n",
    "\n",
    "\n",
    "3. a) Load simulated data from the file \"sample.csv\". Fit the exponential, gamma and chi-square distributions and estimate their parameters by log-likelihood maximization. Select the best non-Gaussian statistical distribution for  $T$. Justify your choice.\n",
    "\n",
    "Rem: if you use scipy, set the location parameter to zero with option 'floc=0'.\n",
    "\n",
    "------------------------------------------------------------------------------------------------------"
   ]
  },
  {
   "cell_type": "markdown",
   "metadata": {},
   "source": [
    "Answer here\n"
   ]
  },
  {
   "cell_type": "code",
   "execution_count": 3,
   "metadata": {},
   "outputs": [
    {
     "data": {
      "text/plain": [
       "<matplotlib.legend.Legend at 0x1e3ab551460>"
      ]
     },
     "execution_count": 3,
     "metadata": {},
     "output_type": "execute_result"
    },
    {
     "data": {
      "image/png": "[encoded data removed]",
      "text/plain": [
       "<Figure size 432x288 with 1 Axes>"
      ]
     },
     "metadata": {
      "needs_background": "light"
     },
     "output_type": "display_data"
    }
   ],
   "source": [
    "from scipy.stats import chi2, expon, gamma\n",
    "\n",
    "simulation = pd.read_csv(\"sample.csv\")['0'].tolist()\n",
    "\n",
    "x = np.linspace(0, 150, 200)\n",
    "\n",
    "g_a, g_loc, g_scale = gamma.fit(simulation, floc = 0)\n",
    "e_loc, e_scale = expon.fit(simulation, floc = 0)\n",
    "c_df, c_loc, c_scale = chi2.fit(simulation, fscale = 1, floc = 0)\n",
    "\n",
    "\n",
    "plt.plot(x, gamma.pdf(x, g_a, loc = g_loc, scale = g_scale), label = \"gamma\")\n",
    "plt.plot(x, expon.pdf(x, loc = e_loc, scale = e_scale), label= \"exponential\")\n",
    "plt.plot(x, chi2.pdf(x, c_df, loc = c_loc, scale = c_scale), label = \"chi-squared\")\n",
    "plt.legend()\n"
   ]
  },
  {
   "cell_type": "markdown",
   "metadata": {},
   "source": [
    "b) During the lectures, we have seen that the chi-square distribution has only one single parameter (the number of degrees of freedom). In Scipy, we find two other parameters location \"loc\" and scale \"scale\". Why? "
   ]
  },
  {
   "cell_type": "markdown",
   "metadata": {},
   "source": [
    "Answer here\n"
   ]
  },
  {
   "cell_type": "markdown",
   "metadata": {},
   "source": [
    "------------------------------------------------------------------------------------------------------\n",
    "\n",
    "c) Compare the empirical distribution with the distribution you chose at 3a). For this purpose, plot an histogram of  durations and add the probability density function (pdf) that you have selected for modelling the random variable.\n",
    "\n",
    "------------------------------------------------------------------------------------------------------"
   ]
  },
  {
   "cell_type": "code",
   "execution_count": 4,
   "metadata": {
    "scrolled": true
   },
   "outputs": [
    {
     "data": {
      "text/plain": [
       "<matplotlib.legend.Legend at 0x1e3ab5513a0>"
      ]
     },
     "execution_count": 4,
     "metadata": {},
     "output_type": "execute_result"
    },
    {
     "data": {
      "image/png": "[encoded data removed]",
      "text/plain": [
       "<Figure size 432x288 with 1 Axes>"
      ]
     },
     "metadata": {
      "needs_background": "light"
     },
     "output_type": "display_data"
    }
   ],
   "source": [
    "plt.hist(results, bins = 100, density = True)\n",
    "plt.plot(x, gamma.pdf(x, g_a, loc = g_loc, scale = g_scale), label = \"gamma\")\n",
    "plt.legend()\n"
   ]
  },
  {
   "cell_type": "markdown",
   "metadata": {},
   "source": [
    "------------------------------------------------------------------------------------------------------\n",
    "\n",
    "4. We want to fit a Weibull distribution to $T$. The density, $f(t)$, depends upon two parameters $\\alpha>0$ and $\\lambda>0$ and is given by:\n",
    "\n",
    "$$ f(t)=\\lambda \\alpha t^{\\alpha-1} \\exp(-\\lambda t^\\alpha) $$\n",
    "\n",
    "a) Write two functions: one for the density and one that computes the log-likelihood of a sample of durations for this distribution. Test this function on the simulated dataset and for $\\alpha=1$ and $\\lambda=\\frac{1}{28}$\n",
    "\n",
    "------------------------------------------------------------------------------------------------------"
   ]
  },
  {
   "cell_type": "code",
   "execution_count": 5,
   "metadata": {},
   "outputs": [
    {
     "name": "stdout",
     "output_type": "stream",
     "text": [
      "-21622.002737434377\n"
     ]
    },
    {
     "data": {
      "text/plain": [
       "[<matplotlib.lines.Line2D at 0x1e3ce7b4310>]"
      ]
     },
     "execution_count": 5,
     "metadata": {},
     "output_type": "execute_result"
    },
    {
     "data": {
      "image/png": "[encoded data removed]",
      "text/plain": [
       "<Figure size 432x288 with 1 Axes>"
      ]
     },
     "metadata": {
      "needs_background": "light"
     },
     "output_type": "display_data"
    }
   ],
   "source": [
    "def Weibull(param, t):\n",
    "    \"\"\"\n",
    "    Param : tuple avec les parametres (alpha, lambda)\n",
    "    Returns the Weibull distributions for parameters alpha and lambda (lam) evaluated at t (can be a numpy array)\n",
    "    \"\"\"\n",
    "    return param[1] * param[0] * np.power(t, param[0]-1) * np.exp(-param[1]* np.power(t,param[0]))\n",
    "\n",
    "def log_likelihood_Weibull(param, data):\n",
    "    \"\"\"\n",
    "    Returns the log-likelihood of the Weibull distribution for a given data set\n",
    "    \"\"\"\n",
    "    return np.sum(np.log(Weibull(param, data)))\n",
    "\n",
    "\n",
    "param = (1, 1/28,)\n",
    "x = np.linspace(0, 150, 200)\n",
    "f = Weibull(param, x)\n",
    "print(log_likelihood_Weibull(param, results))\n",
    "plt.plot(x, f)\n"
   ]
  },
  {
   "cell_type": "markdown",
   "metadata": {},
   "source": [
    "------------------------------------------------------------------------------------------------------\n",
    "\n",
    "b) Maximize the log-likelihood to find estimates $\\hat{\\alpha}$ and $\\hat{\\lambda}$. Next compare the log-likelihood with those computed previously. Is this model better?\n",
    "\n",
    "Hint: use the \"scipy.optimize\" package and the function \"minimize\". To avoid adding constraints, you can do a change of variables: $\\alpha=\\exp(a)$ and $\\lambda=\\exp(b)$. The function \"minimize\" may send back a warning (division by zero in log) but converges well to the solution.\n",
    "\n",
    "------------------------------------------------------------------------------------------------------"
   ]
  },
  {
   "cell_type": "code",
   "execution_count": 6,
   "metadata": {},
   "outputs": [
    {
     "name": "stdout",
     "output_type": "stream",
     "text": [
      "(2.1574170259757053, 0.0005869402151682915)\n",
      "-19785.925088479882\n"
     ]
    },
    {
     "name": "stderr",
     "output_type": "stream",
     "text": [
      "C:\\Users\\sacha\\AppData\\Local\\Temp/ipykernel_21384/467810289.py:14: RuntimeWarning: divide by zero encountered in log\n",
      "  return -np.sum(np.log(Weibull_exp(param, data)))\n",
      "C:\\Users\\sacha\\OneDrive - UCL\\Bureau\\School\\BAC3\\Q5\\LEPL1109 - Stats\\lepl1109-env\\lib\\site-packages\\scipy\\optimize\\_numdiff.py:557: RuntimeWarning: invalid value encountered in subtract\n",
      "  df = fun(x) - f0\n",
      "C:\\Users\\sacha\\AppData\\Local\\Temp/ipykernel_21384/467810289.py:14: RuntimeWarning: divide by zero encountered in log\n",
      "  return -np.sum(np.log(Weibull_exp(param, data)))\n"
     ]
    },
    {
     "data": {
      "text/plain": [
       "[<matplotlib.lines.Line2D at 0x1e3ce82d880>]"
      ]
     },
     "execution_count": 6,
     "metadata": {},
     "output_type": "execute_result"
    },
    {
     "data": {
      "image/png": "[encoded data removed]",
      "text/plain": [
       "<Figure size 432x288 with 1 Axes>"
      ]
     },
     "metadata": {
      "needs_background": "light"
     },
     "output_type": "display_data"
    }
   ],
   "source": [
    "from scipy.optimize import minimize\n",
    "\n",
    "def Weibull_exp(param, t):\n",
    "    \"\"\"\n",
    "    Arg :param : tuple (a, b) avec alpha = exp(a) et lambda = exp(b)\n",
    "    Returns the Weibull distributions for parameters alpha and lambda (lam) evaluated at t (can be a numpy array)\n",
    "    \"\"\"\n",
    "    return np.exp(param[1]) * np.exp(param[0]) * np.power(t, np.exp(param[0])-1) * np.exp(-np.exp(param[1])* np.power(t,np.exp(param[0])))\n",
    "\n",
    "def minus_log_likelihood_Weibull_exp(param, data):\n",
    "    \"\"\"\n",
    "    Returns the log-likelihood of the Weibull distribution for a given data set\n",
    "    \"\"\"\n",
    "    return -np.sum(np.log(Weibull_exp(param, data)))\n",
    "\n",
    "start = (np.log(1), np.log(1/28),)\n",
    "p = minimize(minus_log_likelihood_Weibull_exp, start, args = results)\n",
    "\n",
    "final_parametres = (np.exp(p.x[0]), np.exp(p.x[1]),)\n",
    "print(final_parametres)\n",
    "print(log_likelihood_Weibull(final_parametres, results))\n",
    "\n",
    "plt.hist(results, bins = 100, density = True)\n",
    "plt.plot(x, Weibull(final_parametres, x))\n",
    "\n"
   ]
  },
  {
   "cell_type": "markdown",
   "metadata": {},
   "source": [
    "------------------------------------------------------------------------------------------------------\n",
    "\n",
    "c) The expectation and variance of the Weibull distribution are \n",
    "$$ \\mathbb{E}(T)=\\lambda^{-\\frac{1}{\\alpha}}\\Gamma(\\frac{1}{\\alpha}+1) $$\n",
    "\n",
    "$$ \\mathbb{V}(T)=\\lambda^{-\\frac{2}{\\alpha}} \\left(  \\Gamma(\\frac{2}{\\alpha}+1) -\\Gamma(\\frac{1}{\\alpha}+1)^2  \\right) $$\n",
    "\n",
    "Estimate $\\alpha$  and $\\lambda$ by the methods of moments. Next calculate the log-likelihood with these estimates and compare with these obtained by log-likelihood maximization. Is the result surprising ?\n",
    "\n",
    "Hint: use the scipy.optimize package and the function \"root\". The gamma function is scipy.special.gamma(z)\n",
    "\n",
    "------------------------------------------------------------------------------------------------------"
   ]
  },
  {
   "cell_type": "code",
   "execution_count": 105,
   "metadata": {},
   "outputs": [
    {
     "name": "stdout",
     "output_type": "stream",
     "text": [
      "-19797.855673253012\n"
     ]
    }
   ],
   "source": [
    "from scipy.special import gamma as g\n",
    "from scipy.optimize import root\n",
    "\n",
    "M = np.sum(results)/5000\n",
    "S2 = np.sum(np.power(results - M, 2))/4999\n",
    "\n",
    "def to_root(x):\n",
    "    return[np.exp(x[1])**(-1/np.exp(x[0])) * g(1/np.exp(x[0]) + 1) - M,\n",
    "           np.exp(x[1])**(-2/np.exp(x[0])) * (g(2/np.exp(x[0]) + 1) - g(1/np.exp(x[0]) + 1)**2) - S2]\n",
    "\n",
    "roots = root(to_root, (np.log(1), np.log(1/28),))\n",
    "moments_parametres = np.exp(roots.x)\n",
    "print(log_likelihood_Weibull(moments_parametres, results))\n"
   ]
  },
  {
   "cell_type": "markdown",
   "metadata": {},
   "source": [
    "------------------------------------------------------------------------------------------------------\n",
    "\n",
    "5.\tBased on the content of the “Self-learning 2”, Bootstrap 1000 times the sample of durations simulated in Question 2 (stored in the file \"sample.csv\") and compute, the mean, standard deviation and 95% and 90% confidence interval for parameter(s) estimate(s). Plot the empirical distribution of parameter(s).\n",
    "\n",
    "------------------------------------------------------------------------------------------------------"
   ]
  },
  {
   "cell_type": "code",
   "execution_count": 106,
   "metadata": {},
   "outputs": [],
   "source": [
    "import random as rn\n",
    "bet=np.zeros((1000, 2))\n",
    "for i in range(1000):\n",
    "    partition = rn.choices(population=results, k=5000)\n",
    "    betm = gamma.fit(data=partition,floc=0)\n",
    "    bet[i, 0] = betm[0]\n",
    "    bet[i, 1] = betm[2]\n",
    "    \n",
    "alpha_mean = np.mean(bet[:, 0])\n",
    "beta_mean = np.mean(bet[:, 1])\n",
    "\n",
    "alpha_std = np.std(bet[:, 0])\n",
    "beta_std = np.std(bet[:, 1])"
   ]
  },
  {
   "cell_type": "markdown",
   "metadata": {},
   "source": [
    "-----------------------------------------------------------------------------------------------------\n",
    "\n",
    "6. Using simulated assembling times, determine the probability that assembling 10 gearboxes lasts less than 320 seconds $P(T\\leq 320\\,sec)$. \n",
    "\n",
    "------------------------------------------------------------------------------------------------------"
   ]
  },
  {
   "cell_type": "code",
   "execution_count": 107,
   "metadata": {},
   "outputs": [
    {
     "name": "stdout",
     "output_type": "stream",
     "text": [
      "0.83454\n"
     ]
    }
   ],
   "source": [
    "N = 100000\n",
    "count = 0\n",
    "for i in range(N):\n",
    "    choices = rn.choices(results, k = 10)\n",
    "    if(np.sum(choices) <= 320):\n",
    "        count += 1\n",
    "    \n",
    "P = count/N\n",
    "\n",
    "print(P)\n"
   ]
  },
  {
   "cell_type": "markdown",
   "metadata": {},
   "source": [
    "------------------------------------------------------------------------------------------------------\n",
    "\n",
    "7. Is there any alternative to numerical computing in question 6 for approximating  $P(T\\leq 320\\,sec)$? Please detail your answer and provide an estimate of this probability.\n",
    "\n",
    "------------------------------------------------------------------------------------------------------"
   ]
  },
  {
   "cell_type": "markdown",
   "metadata": {},
   "source": [
    "Answer here\n"
   ]
  },
  {
   "cell_type": "code",
   "execution_count": null,
   "metadata": {},
   "outputs": [],
   "source": []
  }
 ],
 "metadata": {
  "kernelspec": {
   "display_name": "Python 3 (ipykernel)",
   "language": "python",
   "name": "python3"
  },
  "language_info": {
   "codemirror_mode": {
    "name": "ipython",
    "version": 3
   },
   "file_extension": ".py",
   "mimetype": "text/x-python",
   "name": "python",
   "nbconvert_exporter": "python",
   "pygments_lexer": "ipython3",
   "version": "3.9.6"
  }
 },
 "nbformat": 4,
 "nbformat_minor": 4
}

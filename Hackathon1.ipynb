{
 "cells": [
  {
   "cell_type": "markdown",
   "metadata": {},
   "source": [
    "# Hackathon 1: simulations, descriptive stats & estimation\n",
    "\n",
    "This project illustrates the course LEPL1109 with an industrial applications of simulations. You will analyse the performance of an assembly chain, analytically and with simulations. This is an introduction to supply chain management which is a field actively studied by engineers (see e.g. LINMA2470 Stochastic modelling). \n",
    "\n",
    "## Report content\n",
    "\n",
    "•\tGrades are granted to the members whose names are in the Jupyter notebook. If your name doesn’t appear on the top of the notebook, you’ll get a 0, even though you are in a group on Moodle.\n",
    "\n",
    "•\tThe jupyter notebook must be compiled with printed results and next submitted via moodle. The absence of compiled results (or non-printed values) leads to a lower grade.\n",
    "\n",
    "## Report submission\n",
    "\n",
    "•\tDeadline, see moodle website. Submission after the deadline will not be accepted.\n",
    "\n",
    "•\tTo submit your report, go to the section “APP” on Moodle and the subsection “Soumission du rapport”. You can upload your work there. Once you are sure that it is your final version, click the button “Envoyer le devoir”. It is important that you don’t forget to click on this button ! \n",
    "\n",
    "•\tReports that have not been uploaded through Moodle will not be corrected.\n",
    "\n",
    "\n",
    "## Names and Noma of participants:\n",
    "\n",
    "Part. 1: Defrère Sacha - 51621900\n",
    "\n",
    "Part. 2: Goffinet Dylan - 08471900\n",
    "\n",
    "Part. 3: Moulin Guillaume - 43151900\n",
    "\n",
    "Part. 4: Mottet Romain - 34391900\n",
    "\n",
    "Part. 5: Sanderson Erwan- 40141800\n",
    "\n",
    "Part. 6: Sonnet Thibaut - 6872124097"
   ]
  },
  {
   "attachments": {
    "Capture.PNG": {
     "image/png": "[encoded data removed]"
    }
   },
   "cell_type": "markdown",
   "metadata": {},
   "source": [
    "In a manufacture of mechanical devices for the automotive industry, the production of a gearbox is done by a line of 3 successive working stations. The production of a new gearbox starts only when the previous one is fully assembled. In what follows, the assembly time of one gearbox is denoted by $T$. Also, $T_k$ is the assembly time at machine $k$. Finally $\\mu_k = \\mathbb{E}(T_k)$ and $\\sigma^2_k = \\mathbb{V}(T)$. Details about the production line are provided in the graph below.\n",
    "\n",
    "![Capture.PNG](attachment:Capture.PNG)\n",
    "\n",
    "where $p=0.75$ indicates for example that the output of machine 1 ends up in machine 2 with probability $0.75$. \n",
    "\n",
    "------------------------------------------------------------------------------------------------------\n",
    "\n",
    "1.\tFor each machine $k$, choose a (non-Gaussian) statistical distribution for the assembly time $T_k$ and provide value(s) for its parameter(s).\n",
    "\n",
    "------------------------------------------------------------------------------------------------------"
   ]
  },
  {
   "cell_type": "markdown",
   "metadata": {},
   "source": [
    "### Machine 1\n",
    "Gamma distribution\n",
    "\n",
    "Parameters: $\\alpha _1 = \\frac{\\mu_1^2}{\\sigma_1^2} = \\frac{49}{4} = 12.25$ and $\\beta _1 = \\frac{\\sigma_1^2}{\\mu_1} = \\frac{4}{7} \\approx 0.571$\n",
    "\n",
    "### Machine 2\n",
    "Exponential distribution\n",
    "\n",
    "Parameters: $\\alpha _2 = \\frac{\\mu_2^2}{\\sigma_2^2} = \\frac{144}{144} = 1$ and $\\beta _2 = \\frac{\\sigma_2^2}{\\mu_2} = \\frac{144}{12} = 12$\n",
    "\n",
    "### Machine 3\n",
    "Gamma distribution\n",
    "\n",
    "Parameters: $\\alpha _3 = \\frac{\\mu_3^2}{\\sigma_3^2} = \\frac{256}{64} = 4$ and $\\beta _3 = \\frac{\\sigma_3^2}{\\mu_3} = \\frac{64}{16} = 4$\n",
    "\n",
    "### Machine 4\n",
    "Exponential distribution\n",
    "\n",
    "Parameters: $\\alpha _4 = \\frac{\\mu_4^2}{\\sigma_4^2} = \\frac{64}{64} = 1$ and $\\beta _4 = \\frac{\\sigma_4^2}{\\mu_4} = \\frac{64}{8} = 8$"
   ]
  },
  {
   "cell_type": "markdown",
   "metadata": {},
   "source": [
    "------------------------------------------------------------------------------------------------------------------------\n",
    "\n",
    "b) Calculate the expected time for assembling one gearbox, $\\mathbb{E}(T)$.\n",
    "\n",
    "------------------------------------------------------------------------------------------------------------------------"
   ]
  },
  {
   "cell_type": "markdown",
   "metadata": {},
   "source": [
    "$\\mathbb{E}(T)$ = $\\mu 1 + 0.75 \\times \\mu 2 + 0.25 \\times \\mu 3 + \\mu 4$ = 28"
   ]
  },
  {
   "cell_type": "markdown",
   "metadata": {},
   "source": [
    "------------------------------------------------------------------------------------------------------\n",
    "\n",
    "2. Simulate 5000 durations  $T$  for assembling one single gearbox and report the mean (check that its is well close to the expectation of question 1), standard deviation, 5% and 95% percentile. Plot an histogram. Save the simulated durations in a file \"sample.csv\".\n",
    "\n",
    "------------------------------------------------------------------------------------------------------"
   ]
  },
  {
   "cell_type": "code",
   "execution_count": 1,
   "metadata": {},
   "outputs": [
    {
     "data": {
      "image/png": "[encoded data removed]",
      "text/plain": [
       "<Figure size 432x288 with 1 Axes>"
      ]
     },
     "metadata": {
      "needs_background": "light"
     },
     "output_type": "display_data"
    }
   ],
   "source": [
    "import random\n",
    "import numpy as np\n",
    "import csv\n",
    "import matplotlib.pyplot as plt\n",
    "\n",
    "m = [7, 12, 16, 8]\n",
    "s = [2, 12, 8, 8]\n",
    "alpha = np.array(m) * np.array(m) / np.array(s) * np.array(s)\n",
    "beta = np.array(s) * np.array(s) / np.array(m)\n",
    "\n",
    "time = np.zeros(5000)\n",
    "\n",
    "for i in range(0, 5000):\n",
    "    time[i] += random.gammavariate(alpha[0], beta[0])\n",
    "\n",
    "    p = random.choice([2, 2, 2, 3])\n",
    "    if p == 2:\n",
    "        time[i] += random.expovariate(1 / beta[1])\n",
    "    else:\n",
    "        time[i] += random.gammavariate(alpha[2], beta[2])\n",
    "\n",
    "    time[i] += random.expovariate(1 / beta[3])\n",
    "\n",
    "mean = time.sum() / time.size\n",
    "plt.hist(time, bins=200)\n",
    "\n",
    "f = open('sample.csv', 'w')\n",
    "writer = csv.writer(f)\n",
    "writer.writerow(time)\n",
    "f.close()\n",
    "\n",
    "perc_5 = np.percentile(time, 5)\n",
    "perc_95 = np.percentile(time, 95)"
   ]
  },
  {
   "cell_type": "markdown",
   "metadata": {},
   "source": [
    "\n",
    "------------------------------------------------------------------------------------------------------\n",
    "\n",
    "\n",
    "3. a) Load simulated data from the file \"sample.csv\". Fit the exponential, gamma and chi-square distributions and estimate their parameters by log-likelihood maximization. Select the best non-Gaussian statistical distribution for  $T$. Justify your choice.\n",
    "\n",
    "Rem: if you use scipy, set the location parameter to zero with option 'floc=0'.\n",
    "\n",
    "------------------------------------------------------------------------------------------------------"
   ]
  },
  {
   "cell_type": "markdown",
   "metadata": {},
   "source": [
    "We chose the chi-square distribution because it is more representative of the data as it is wider but grows less in the middle compared to the gamma. The exponential just doesn't seem to accurately represent the data."
   ]
  },
  {
   "cell_type": "code",
   "execution_count": 2,
   "metadata": {},
   "outputs": [
    {
     "data": {
      "image/png": "[encoded data removed]",
      "text/plain": [
       "<Figure size 432x288 with 1 Axes>"
      ]
     },
     "metadata": {
      "needs_background": "light"
     },
     "output_type": "display_data"
    }
   ],
   "source": [
    "import csv\n",
    "import matplotlib.pyplot as plt\n",
    "import numpy as np\n",
    "import scipy.stats\n",
    "\n",
    "f = open('sample.csv', 'r')\n",
    "reader = csv.reader(f)\n",
    "x = np.linspace(20, 180, 1000, endpoint=True)\n",
    "\n",
    "for data in reader:\n",
    "    if len(data) == 0:\n",
    "        continue\n",
    "\n",
    "    for i in range(len(data)):\n",
    "        data[i] = float(data[i])\n",
    "    data = np.array(data)\n",
    "\n",
    "    gamma = scipy.stats.gamma.fit(data, fscale=1, floc=0)\n",
    "    exp = scipy.stats.expon.fit(data, fscale=40)\n",
    "    chi = scipy.stats.chi2.fit(data, fscale=1, floc=0)\n",
    "\n",
    "    plt.plot(x, scipy.stats.gamma.pdf(x, gamma[0], loc=gamma[1], scale=gamma[2]))\n",
    "    plt.plot(x, scipy.stats.expon.pdf(x, loc=exp[0], scale=exp[1]))\n",
    "    plt.plot(x, scipy.stats.chi2.pdf(x, chi[0], loc=chi[1], scale=chi[2]))\n",
    "f.close()"
   ]
  },
  {
   "cell_type": "markdown",
   "metadata": {},
   "source": [
    "b) During the lectures, we have seen that the chi-square distribution has only one single parameter (the number of degrees of freedom). In Scipy, we find two other parameters location \"loc\" and scale \"scale\". Why? "
   ]
  },
  {
   "cell_type": "markdown",
   "metadata": {},
   "source": [
    "To determine where do we put the start of the distribution, it's location. And to rescale it if it is needed / to force a scale to the graph."
   ]
  },
  {
   "cell_type": "markdown",
   "metadata": {},
   "source": [
    "------------------------------------------------------------------------------------------------------\n",
    "\n",
    "c) Compare the empirical distribution with the distribution you chose at 3a). For this purpose, plot an histogram of  durations and add the probability density function (pdf) that you have selected for modelling the random variable.\n",
    "\n",
    "------------------------------------------------------------------------------------------------------"
   ]
  },
  {
   "cell_type": "code",
   "execution_count": 3,
   "metadata": {
    "scrolled": true
   },
   "outputs": [],
   "source": [
    "#code here\n"
   ]
  },
  {
   "cell_type": "markdown",
   "metadata": {},
   "source": [
    "------------------------------------------------------------------------------------------------------\n",
    "\n",
    "4. We want to fit a Weibull distribution to $T$. The density, $f(t)$, depends upon two parameters $\\alpha>0$ and $\\lambda>0$ and is given by:\n",
    "\n",
    "$$ f(t)=\\lambda \\alpha t^{\\alpha-1} \\exp(-\\lambda t^\\alpha) $$\n",
    "\n",
    "a) Write two functions: one for the density and one that computes the log-likelihood of a sample of durations for this distribution. Test this function on the simulated dataset and for $\\alpha=1$ and $\\lambda=\\frac{1}{28}$\n",
    "\n",
    "------------------------------------------------------------------------------------------------------"
   ]
  },
  {
   "cell_type": "code",
   "execution_count": 4,
   "metadata": {},
   "outputs": [],
   "source": [
    "#code here\n"
   ]
  },
  {
   "cell_type": "markdown",
   "metadata": {},
   "source": [
    "------------------------------------------------------------------------------------------------------\n",
    "\n",
    "b) Maximize the log-likelihood to find estimates $\\hat{\\alpha}$ and $\\hat{\\lambda}$. Next compare the log-likelihood with those computed previously. Is this model better?\n",
    "\n",
    "Hint: use the \"scipy.optimize\" package and the function \"minimize\". To avoid adding constraints, you can do a change of variables: $\\alpha=\\exp(a)$ and $\\lambda=\\exp(b)$. The function \"minimize\" may send back a warning (division by zero in log) but converges well to the solution.\n",
    "\n",
    "------------------------------------------------------------------------------------------------------"
   ]
  },
  {
   "cell_type": "code",
   "execution_count": 5,
   "metadata": {},
   "outputs": [],
   "source": [
    "#code here\n"
   ]
  },
  {
   "cell_type": "markdown",
   "metadata": {},
   "source": [
    "------------------------------------------------------------------------------------------------------\n",
    "\n",
    "c) The expectation and variance of the Weibull distribution are \n",
    "$$ \\mathbb{E}(T)=\\lambda^{-\\frac{1}{\\alpha}}\\Gamma(\\frac{1}{\\alpha}+1) $$\n",
    "\n",
    "$$ \\mathbb{V}(T)=\\lambda^{-\\frac{2}{\\alpha}} \\left(  \\Gamma(\\frac{2}{\\alpha}+1) -\\Gamma(\\frac{1}{\\alpha}+1)^2  \\right) $$\n",
    "\n",
    "Estimate $\\alpha$  and $\\lambda$ by the methods of moments. Next calculate the log-likelihood with these estimates and compare with these obtained by log-likelihood maximization. Is the result surprising ?\n",
    "\n",
    "Hint: use the scipy.optimize package and the function \"root\". The gamma function is scipy.special.gamma(z)\n",
    "\n",
    "------------------------------------------------------------------------------------------------------"
   ]
  },
  {
   "cell_type": "code",
   "execution_count": 6,
   "metadata": {},
   "outputs": [],
   "source": [
    "#code here\n"
   ]
  },
  {
   "cell_type": "markdown",
   "metadata": {},
   "source": [
    "------------------------------------------------------------------------------------------------------\n",
    "\n",
    "5.\tBased on the content of the “Self-learning 2”, Bootstrap 1000 times the sample of durations simulated in Question 2 (stored in the file \"sample.csv\") and compute, the mean, standard deviation and 95% and 90% confidence interval for parameter(s) estimate(s). Plot the empirical distribution of parameter(s).\n",
    "\n",
    "------------------------------------------------------------------------------------------------------"
   ]
  },
  {
   "cell_type": "code",
   "execution_count": 7,
   "metadata": {},
   "outputs": [],
   "source": [
    "#code here\n"
   ]
  },
  {
   "cell_type": "markdown",
   "metadata": {},
   "source": [
    "-----------------------------------------------------------------------------------------------------\n",
    "\n",
    "6. Using simulated assembling times, determine the probability that assembling 10 gearboxes lasts less than 320 seconds $P(T\\leq 320\\,sec)$. \n",
    "\n",
    "------------------------------------------------------------------------------------------------------"
   ]
  },
  {
   "cell_type": "code",
   "execution_count": 8,
   "metadata": {},
   "outputs": [],
   "source": [
    "#code here\n"
   ]
  },
  {
   "cell_type": "markdown",
   "metadata": {},
   "source": [
    "------------------------------------------------------------------------------------------------------\n",
    "\n",
    "7. Is there any alternative to numerical computing in question 6 for approximating  $P(T\\leq 320\\,sec)$? Please detail your answer and provide an estimate of this probability.\n",
    "\n",
    "------------------------------------------------------------------------------------------------------"
   ]
  },
  {
   "cell_type": "markdown",
   "metadata": {},
   "source": [
    "Answer here\n"
   ]
  },
  {
   "cell_type": "code",
   "execution_count": null,
   "metadata": {},
   "outputs": [],
   "source": []
  }
 ],
 "metadata": {
  "kernelspec": {
   "display_name": "Python 3",
   "language": "python",
   "name": "python3"
  },
  "language_info": {
   "codemirror_mode": {
    "name": "ipython",
    "version": 3
   },
   "file_extension": ".py",
   "mimetype": "text/x-python",
   "name": "python",
   "nbconvert_exporter": "python",
   "pygments_lexer": "ipython3",
   "version": "3.8.5"
  }
 },
 "nbformat": 4,
 "nbformat_minor": 4
}
